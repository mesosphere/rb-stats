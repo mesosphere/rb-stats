{
 "cells": [
  {
   "cell_type": "code",
   "execution_count": null,
   "metadata": {
    "collapsed": false
   },
   "outputs": [],
   "source": [
    "import mesos_rb as m\n",
    "import time\n",
    "from matplotlib import *\n",
    "from pylab import *\n",
    "from numpy import *\n",
    "\n",
    "\n",
    "%matplotlib inline"
   ]
  },
  {
   "cell_type": "code",
   "execution_count": null,
   "metadata": {
    "collapsed": true
   },
   "outputs": [],
   "source": [
    "import mesos_rb as m\n",
    "import time\n",
    "from matplotlib import *\n",
    "import matplotlib.pylab as pylab\n",
    "from pylab import *\n",
    "from numpy import *\n",
    "\n",
    "\n",
    "%matplotlib inline\n",
    "\n",
    "\n",
    "def sortvalues(input_dict, reference_list, output_list):\n",
    "    for name in reference_list[0]:\n",
    "        for user in input_dict.keys():\n",
    "            if user == name:\n",
    "                output_list.append(input_dict[user])\n",
    "                break\n",
    "            \n",
    "            \n",
    "def autolabel(rects,values):\n",
    "    # attach number values to graph\n",
    "    index = 0\n",
    "    for rect in rects:\n",
    "        length = values[index]\n",
    "        height = rect.get_y()\n",
    "        pyplot.text(float(values[index] + .3), rect.get_y() + .1, '{length}'.format(length=length),fontsize=20,)\n",
    "        index += 1"
   ]
  },
  {
   "cell_type": "markdown",
   "metadata": {},
   "source": [
    "Fetch review data from ReviewBoard\n",
    "---"
   ]
  },
  {
   "cell_type": "code",
   "execution_count": null,
   "metadata": {
    "collapsed": false
   },
   "outputs": [],
   "source": [
    "# Cut Off Date\n",
    "CUTOFF_DAYS = 60\n",
    "\n",
    "# Set stat equal to either 'discarded', 'pending', or 'submitted'\n",
    "stat = 'pending'\n",
    "\n",
    "reviews = m.fetch_reviews(stat, CUTOFF_DAYS, 0)"
   ]
  },
  {
   "cell_type": "markdown",
   "metadata": {},
   "source": [
    "Review of Defined Type Per User\n",
    "---"
   ]
  },
  {
   "cell_type": "code",
   "execution_count": null,
   "metadata": {
    "collapsed": false,
    "scrolled": false
   },
   "outputs": [],
   "source": [
    "# Fetch the data.\n",
    "per_user = m.reviews_per_user(reviews)\n",
    "chart = m.convert_to_chart(per_user['review_count'])\n",
    "chart2 = per_user['open_issues']\n",
    "\n",
    "# Set up the chart.\n",
    "font = {'size' : 30}\n",
    "rc('font', **font)\n",
    "pyplot.figure(figsize = (20.0, 60.0))\n",
    "pylab.grid()\n",
    "pylab.title('{firstletter}{stat} Reviews and Open Issues Per Submitter'.format(firstletter=stat[0].upper(), \n",
    "                                                                               stat=stat[1:]))\n",
    "\n",
    "# Order issues_count values in accordance with review_chart values/names\n",
    "issue_values = []             \n",
    "sortvalues(chart2, chart, issue_values)\n",
    "\n",
    "# Populate the chart.\n",
    "y_positions = arange(len(chart[0]))\n",
    "plot = pyplot.barh(y_positions + .4, chart[1], .4, color = 'blue')\n",
    "plot2 = pyplot.barh(y_positions, issue_values, .4, color = 'red')\n",
    "legend_margin = y_positions.size * 3.5 / 53\n",
    "pyplot.ylim([0, y_positions.size + legend_margin])\n",
    "pyplot.legend((plot, plot2),('Reviews Per User','Total Open Issues Per User'))\n",
    "\n",
    "# Set labels.\n",
    "yt = pyplot.yticks(y_positions + .4, chart[0])\n",
    "\n",
    "plot_values = []\n",
    "\n",
    "for value in chart[1]:\n",
    "    plot_values.append(value)\n",
    "\n",
    "        \n",
    "autolabel(plot,plot_values)\n",
    "autolabel(plot2, issue_values)"
   ]
  },
  {
   "cell_type": "markdown",
   "metadata": {},
   "source": [
    "Reviews of Defined Type Per Reviewer\n",
    "---"
   ]
  },
  {
   "cell_type": "code",
   "execution_count": null,
   "metadata": {
    "collapsed": false,
    "scrolled": true
   },
   "outputs": [],
   "source": [
    "# Fetch the data\n",
    "per_shepherd = m.reviews_per_shepherd(reviews)\n",
    "chart = m.convert_to_chart(per_shepherd)\n",
    "\n",
    "# Set up the chart.\n",
    "font = {'size' : 30}\n",
    "rc('font', **font)\n",
    "pyplot.figure(figsize = (20.0, 60.0))\n",
    "pylab.grid()\n",
    "pylab.title('{first}{stat} Reviews Per Reviewer'.format(first=stat[0].upper(), stat=stat[1:]))\n",
    "\n",
    "# Populate the chart.\n",
    "y_positions = arange(len(chart[0]))\n",
    "plot = pyplot.barh(y_positions, chart[1], .8, color = 'green')\n",
    "legend_margin = y_positions.size * 3.5 / 53\n",
    "pyplot.ylim([0, y_positions.size + legend_margin])\n",
    "pyplot.legend((plot,),('Reviews Per Reviewer',))\n",
    "\n",
    "# Set Y-axis labels.\n",
    "yt = pyplot.yticks(y_positions + .4, chart[0])\n",
    "plot_values = []\n",
    "\n",
    "for value in chart[1]:\n",
    "    plot_values.append(value)\n",
    "\n",
    "        \n",
    "autolabel(plot,plot_values)"
   ]
  },
  {
   "cell_type": "markdown",
   "metadata": {
    "collapsed": true
   },
   "source": [
    "Average Resolved Issues Per Submitted Review for Users\n",
    "---"
   ]
  },
  {
   "cell_type": "code",
   "execution_count": null,
   "metadata": {
    "collapsed": false,
    "scrolled": true
   },
   "outputs": [],
   "source": [
    "# Cut Off Date, change value of CUTOFF_DAYS if you want to redefine the cut off for the next fetch\n",
    "CUTOFF_DAYS = CUTOFF_DAYS\n",
    "\n",
    "# Fetch the data\n",
    "chart = m.fetch_specific(CUTOFF_DAYS, 0, 'submitted')\n",
    "issues_chart = chart['avg_issue_per_review']\n",
    "review_chart = m.convert_to_chart(chart['review_count'])\n",
    "median_chart = chart['median_issue']\n",
    "\n",
    "# Set up the chart\n",
    "font = {'size' : 25}\n",
    "rc('font', **font)\n",
    "pyplot.figure(figsize = (20.0, 80.0))\n",
    "pylab.grid()\n",
    "pylab.title('Submitted Reviews, Median Resolved Issues, and Average Resolved Issues, for Users')\n",
    "                                                                                             \n",
    "\n",
    "# Order issues_count values in accordance with review_chart values/names\n",
    "issue_values = []\n",
    "median_values = []\n",
    "               \n",
    "median_chart = sortvalues(median_chart, review_chart, median_values)\n",
    "issue_chart = sortvalues(issues_chart, review_chart, issue_values)\n",
    "\n",
    "# Populate the chart.\n",
    "y_positions = arange(len(review_chart[0]))\n",
    "plot = pyplot.barh(y_positions, issue_values, .3, color = 'red')\n",
    "plot2 = pyplot.barh(y_positions + .6, review_chart[1], .3, color = 'green')\n",
    "plot3 = pyplot.barh(y_positions + .3, median_values, .3, color = 'blue')\n",
    "legend_margin = y_positions.size * 3.5 / 53\n",
    "pyplot.ylim([0, y_positions.size + legend_margin])\n",
    "pyplot.legend((plot2,plot3, plot),('Submitted Reviews Per User',\\\n",
    "                                    'Median Resolved Issue Count Per User',\\\n",
    "                                    'Average Resolved Issues Per User'))\n",
    "\n",
    "# Set Y-axis labels.\n",
    "yt = pyplot.yticks(y_positions + .7, review_chart[0])\n",
    "plot_values = []\n",
    "\n",
    "for value in review_chart[1]:\n",
    "    plot_values.append(value)\n",
    "        \n",
    "autolabel(plot2,plot_values)\n",
    "autolabel(plot,issue_values)\n",
    "autolabel(plot3,median_values)"
   ]
  },
  {
   "cell_type": "markdown",
   "metadata": {
    "collapsed": true
   },
   "source": [
    "Ignored Pending Submitter Reviews\n",
    "---"
   ]
  },
  {
   "cell_type": "code",
   "execution_count": null,
   "metadata": {
    "collapsed": false,
    "scrolled": false
   },
   "outputs": [],
   "source": [
    "# Cut Off Dates \n",
    "cutoff_from = 60\n",
    "cutoff_to = 10\n",
    "\n",
    "# Fetch reviews\n",
    "chart = m.convert_to_chart(m.fetch_untouched(cutoff_from ,cutoff_to ,'pending'))\n",
    "\n",
    "# Set up the chart.\n",
    "font = {'size' : 30}\n",
    "rc('font', **font)\n",
    "pyplot.figure(figsize = (20.0, 60.0))\n",
    "pylab.grid()\n",
    "pylab.title('Untouched {first}{stat} Reviews Per User'.format(first=stat[0].upper(), stat=stat[1:]))\n",
    "\n",
    "# Populate the chart.\n",
    "y_positions = arange(len(chart[0]))\n",
    "plot = pyplot.barh(y_positions, chart[1], .8, color = 'yellow')\n",
    "legend_margin = y_positions.size * 3.5 / 53\n",
    "pyplot.ylim([0, y_positions.size + legend_margin])\n",
    "pyplot.legend((plot,),('Untouched Reviews Per User',))\n",
    "\n",
    "# Set labels.\n",
    "yt = pyplot.yticks(y_positions + .4, chart[0])\n",
    "plot_values = []\n",
    "\n",
    "for value in chart[1]:\n",
    "    plot_values.append(value)\n",
    "        \n",
    "autolabel(plot,plot_values)"
   ]
  },
  {
   "cell_type": "code",
   "execution_count": null,
   "metadata": {
    "collapsed": true
   },
   "outputs": [],
   "source": []
  }
 ],
 "metadata": {
  "celltoolbar": "Edit Metadata",
  "kernelspec": {
   "display_name": "Python 2",
   "language": "python",
   "name": "python2"
  },
  "language_info": {
   "codemirror_mode": {
    "name": "ipython",
    "version": 2
   },
   "file_extension": ".py",
   "mimetype": "text/x-python",
   "name": "python",
   "nbconvert_exporter": "python",
   "pygments_lexer": "ipython2",
   "version": "2.7.10"
  }
 },
 "nbformat": 4,
 "nbformat_minor": 0
}
