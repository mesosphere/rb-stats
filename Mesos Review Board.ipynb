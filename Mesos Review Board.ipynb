{
 "cells": [
  {
   "cell_type": "code",
   "execution_count": null,
   "metadata": {
    "collapsed": false
   },
   "outputs": [],
   "source": [
    "import mesos_rb as m\n",
    "from matplotlib import *\n",
    "from pylab import *\n",
    "from numpy import *\n",
    "\n",
    "\n",
    "%matplotlib inline"
   ]
  },
  {
   "cell_type": "markdown",
   "metadata": {},
   "source": [
    "Fetch review data from ReviewBoard\n",
    "---"
   ]
  },
  {
   "cell_type": "code",
   "execution_count": null,
   "metadata": {
    "collapsed": false
   },
   "outputs": [],
   "source": [
    "CUTOFF_DAYS = 5\n",
    "STATUS = 'submitted'\n",
    "\n",
    "reviews = m.fetch_reviews(STATUS, CUTOFF_DAYS)\n"
   ]
  },
  {
   "cell_type": "markdown",
   "metadata": {},
   "source": [
    "Outstanding review per user\n",
    "---"
   ]
  },
  {
   "cell_type": "code",
   "execution_count": null,
   "metadata": {
    "collapsed": false
   },
   "outputs": [],
   "source": [
    "# Fetch the data.\n",
    "per_user = m.reviews_per_user(reviews)\n",
    "chart = m.convert_to_chart(per_user)\n",
    "\n",
    "# Set up the chart.\n",
    "font = {'size' : 30}\n",
    "rc('font', **font)\n",
    "pyplot.figure(figsize = (20.0, 60.0))\n",
    "pylab.grid()\n",
    "\n",
    "# Populate the chart.\n",
    "y_positions = arange(len(chart[0]))\n",
    "pyplot.barh(y_positions, chart[1])\n",
    "\n",
    "\n",
    "# Set Y-axis labels.\n",
    "yt = pyplot.yticks(y_positions, chart[0])\n"
   ]
  },
  {
   "cell_type": "markdown",
   "metadata": {},
   "source": [
    "Outsdaning reviews per reviewer\n",
    "---"
   ]
  },
  {
   "cell_type": "code",
   "execution_count": null,
   "metadata": {
    "collapsed": false
   },
   "outputs": [],
   "source": [
    "per_shepherd = m.reviews_per_shepherd(reviews)\n",
    "chart = m.convert_to_chart(per_shepherd)\n",
    "\n",
    "# Set up the chart.\n",
    "font = {'size' : 30}\n",
    "rc('font', **font)\n",
    "pyplot.figure(figsize = (20.0, 60.0))\n",
    "pylab.grid()\n",
    "\n",
    "# Populate the chart.\n",
    "y_positions = arange(len(chart[0]))\n",
    "pyplot.barh(y_positions, chart[1])\n",
    "\n",
    "# Set Y-axis labels.\n",
    "yt = pyplot.yticks(y_positions, chart[0])"
   ]
  },
  {
   "cell_type": "code",
   "execution_count": null,
   "metadata": {
    "collapsed": true
   },
   "outputs": [],
   "source": []
  }
 ],
 "metadata": {
  "celltoolbar": "Edit Metadata",
  "kernelspec": {
   "display_name": "Python 2",
   "language": "python",
   "name": "python2"
  },
  "language_info": {
   "codemirror_mode": {
    "name": "ipython",
    "version": 2
   },
   "file_extension": ".py",
   "mimetype": "text/x-python",
   "name": "python",
   "nbconvert_exporter": "python",
   "pygments_lexer": "ipython2",
   "version": "2.7.10"
  }
 },
 "nbformat": 4,
 "nbformat_minor": 0
}
